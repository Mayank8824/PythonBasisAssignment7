{
 "cells": [
  {
   "cell_type": "code",
   "execution_count": null,
   "id": "0110d36e",
   "metadata": {},
   "outputs": [],
   "source": [
    "Q.1. Create two int type variables, apply addition, subtraction, division and multiplications\n",
    "and store the results in variables. Then print the data in the following format by calling the\n",
    "variables:\n",
    "    \n",
    "First variable is __ & second variable is __.\n",
    "Addition: __ + __ = __\n",
    "Subtraction: __ - __ = __\n",
    "Multiplication: __ * __ = __\n",
    "Division: __ / __ = __"
   ]
  },
  {
   "cell_type": "code",
   "execution_count": 8,
   "id": "5b91e0ee",
   "metadata": {},
   "outputs": [
    {
     "name": "stdout",
     "output_type": "stream",
     "text": [
      "Enter first number : 40\n",
      "Enter second number : 10\n",
      "First varible is : 40 & second variable is : 10\n",
      "Addition:40+10=50\n",
      "Subtraction:40-10= 30\n",
      "Division:40/10= 4.0\n",
      "Multiplication:40*10= 400\n"
     ]
    }
   ],
   "source": [
    "#Ans1. \n",
    "\n",
    "num1=int(input(\"Enter first number : \"))\n",
    "num2=int(input(\"Enter second number : \"))\n",
    "\n",
    "# Perform arithmetic operations\n",
    "addition_result = num1 + num2\n",
    "subtraction_result = num1 - num2\n",
    "division_result = num1 / num2\n",
    "multiplication_result = num1 * num2\n",
    "\n",
    "# Print the results in the requested format\n",
    "print(f\"First varible is : {num1} & second variable is : {num2}\")\n",
    "print(f\"Addition:{num1}+{num2}={addition_result}\")\n",
    "print(f\"Subtraction:{num1}-{num2}= {subtraction_result}\")\n",
    "print(f\"Division:{num1}/{num2}= {division_result}\")\n",
    "print(f\"Multiplication:{num1}*{num2}= {multiplication_result}\")"
   ]
  },
  {
   "cell_type": "code",
   "execution_count": null,
   "id": "63d1476b",
   "metadata": {},
   "outputs": [],
   "source": [
    "Q.2. What is the difference between the following operators:\n",
    "(i) ‘/’ & ‘//’\n",
    "(ii) ‘**’ & ‘^’"
   ]
  },
  {
   "cell_type": "code",
   "execution_count": null,
   "id": "ac779fcb",
   "metadata": {},
   "outputs": [],
   "source": [
    "Ans2. \n",
    "\n",
    "(i) The / operator performs regular division and returns a floating-point result.\n",
    "result = 10 / 3\n",
    "print(result)  # Output: 3.3333333333333335\n",
    "\n",
    "\n",
    "The // operator performs floor division and returns an integer result.\n",
    "result = 10 // 3\n",
    "print(result)  # Output: 3\n",
    "\n",
    "\n",
    "(ii) The ** operator performs exponentiation.\n",
    "result = 2 ** 3\n",
    "print(result)  # Output: 8\n",
    "\n",
    "\n",
    "The ^ operator performs bitwise XOR on integer operands.\n",
    "result = 5 ^ 3\n",
    "print(result)  # Output: 6 (binary 101 ^ 011 = 110)\n"
   ]
  },
  {
   "cell_type": "code",
   "execution_count": null,
   "id": "4b0a5dff",
   "metadata": {},
   "outputs": [],
   "source": [
    "Q.3. List the logical operators."
   ]
  },
  {
   "cell_type": "code",
   "execution_count": null,
   "id": "f41cd354",
   "metadata": {},
   "outputs": [],
   "source": [
    "Ans3. \n",
    "The logical operators in Python are used to perform logical operations between boolean values or expressions. Here is a list of the logical operators in Python:\n",
    "\n",
    "1. and Operator:\n",
    "\n",
    "The and operator returns True if both operands are True; otherwise, it returns False.\n",
    "Example: True and False evaluates to False.\n",
    "\n",
    "2. or Operator:\n",
    "\n",
    "The or operator returns True if at least one of the operands is True; otherwise, it returns False.\n",
    "Example: True or False evaluates to True.\n",
    "\n",
    "3.not Operator:\n",
    "\n",
    "The not operator returns the opposite of the operand's boolean value. If the operand is True, it returns False; if the operand is False, it returns True.\n",
    "Example: not True evaluates to False."
   ]
  },
  {
   "cell_type": "code",
   "execution_count": null,
   "id": "c81e87d0",
   "metadata": {},
   "outputs": [],
   "source": [
    "Q.4. Explain right shift operator and left shift operator with examples."
   ]
  },
  {
   "cell_type": "code",
   "execution_count": null,
   "id": "950c1367",
   "metadata": {},
   "outputs": [],
   "source": [
    "Ans4. \n",
    "\n",
    "1. Right Shift (>>) Operator:\n",
    "The right shift operator shifts the bits of a number to the right by a specified number of positions. \n",
    "\n",
    "Syntax: number >> shift\n",
    "\n",
    "Example:\n",
    "\n",
    "num = 12  # Binary: 1100\n",
    "shifted = num >> 1  # Shift right by 1 position\n",
    "print(shifted)  # Output: 6 (Binary: 0110)\n",
    "\n",
    "In this example, the binary representation of 12 is 1100. After right-shifting it by 1 position (num >> 1), the result is 6, which corresponds to the binary 0110.\n",
    "\n",
    "2. Left Shift (<<) Operator:\n",
    "The left shift operator shifts the bits of a number to the left by a specified number of positions.\n",
    "\n",
    "Syntax: number << shift\n",
    "\n",
    "Example:\n",
    "\n",
    "num = 5  # Binary: 0101\n",
    "shifted = num << 2  # Shift left by 2 positions\n",
    "print(shifted)  # Output: 20 (Binary: 10100)\n",
    "\n",
    "In this example, the binary representation of 5 is 0101. After left-shifting it by 2 positions (num << 2), the result is 20, which corresponds to the binary 10100.\n",
    "\n",
    "\n"
   ]
  },
  {
   "cell_type": "code",
   "execution_count": null,
   "id": "2f49ba37",
   "metadata": {},
   "outputs": [],
   "source": [
    "Q.5. Create a list containing int type data of length 15. Then write a code to check if 10 is\n",
    "present in the list or not."
   ]
  },
  {
   "cell_type": "code",
   "execution_count": 10,
   "id": "ad48bd86",
   "metadata": {},
   "outputs": [
    {
     "name": "stdout",
     "output_type": "stream",
     "text": [
      "10 is present in the list.\n"
     ]
    }
   ],
   "source": [
    "#Ans5. \n",
    "\n",
    "# Create a list of integers\n",
    "my_list = [2, 4, 6, 8, 10, 12, 14, 16, 18, 20, 22, 24, 26, 28, 30]\n",
    "\n",
    "# Check if 10 is present in the list\n",
    "if 10 in my_list:\n",
    "    print(\"10 is present in the list.\")\n",
    "else:\n",
    "    print(\"10 is not present in the list.\")\n"
   ]
  },
  {
   "cell_type": "code",
   "execution_count": null,
   "id": "cbdc6ff3",
   "metadata": {},
   "outputs": [],
   "source": []
  },
  {
   "cell_type": "code",
   "execution_count": null,
   "id": "a9169498",
   "metadata": {},
   "outputs": [],
   "source": []
  },
  {
   "cell_type": "code",
   "execution_count": null,
   "id": "14393bd9",
   "metadata": {},
   "outputs": [],
   "source": []
  }
 ],
 "metadata": {
  "kernelspec": {
   "display_name": "Python 3 (ipykernel)",
   "language": "python",
   "name": "python3"
  },
  "language_info": {
   "codemirror_mode": {
    "name": "ipython",
    "version": 3
   },
   "file_extension": ".py",
   "mimetype": "text/x-python",
   "name": "python",
   "nbconvert_exporter": "python",
   "pygments_lexer": "ipython3",
   "version": "3.11.3"
  }
 },
 "nbformat": 4,
 "nbformat_minor": 5
}
